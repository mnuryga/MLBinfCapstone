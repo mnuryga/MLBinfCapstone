{
 "cells": [
  {
   "cell_type": "code",
   "execution_count": 1,
   "id": "6faf2420",
   "metadata": {},
   "outputs": [
    {
     "name": "stderr",
     "output_type": "stream",
     "text": [
      "/gpfs/u/home/MLI2/MLI2wngk/scratch/miniconda3/envs/binf2/lib/python3.7/site-packages/tqdm/auto.py:22: TqdmWarning: IProgress not found. Please update jupyter and ipywidgets. See https://ipywidgets.readthedocs.io/en/stable/user_install.html\n",
      "  from .autonotebook import tqdm as notebook_tqdm\n"
     ]
    }
   ],
   "source": [
    "import torch\n",
    "import torch.nn as nn\n",
    "import torch.nn.functional as F\n",
    "import einops\n",
    "from einops import rearrange\n",
    "from tqdm import tqdm"
   ]
  },
  {
   "cell_type": "code",
   "execution_count": 2,
   "id": "3ae6024e",
   "metadata": {},
   "outputs": [
    {
     "name": "stdout",
     "output_type": "stream",
     "text": [
      "WARNING: torch_batch_svd (https://github.com/KinglittleQ/torch-batch-svd) is not installed and is required for maximum efficiency of special_procrustes. Using torch.svd as a fallback.\n"
     ]
    }
   ],
   "source": [
    "from models import MHSA, MSA_Stack, Outer_Product_Mean, Pair_Stack, Triangular_Multiplicative_Model, IPA_Module"
   ]
  },
  {
   "cell_type": "code",
   "execution_count": 3,
   "id": "b6080640",
   "metadata": {},
   "outputs": [],
   "source": [
    "S = 16\n",
    "B = 5\n",
    "R = 64\n",
    "C_m = 128\n",
    "C_z = 64\n",
    "H = 12\n",
    "C = 16\n",
    "N_qp = 4\n",
    "N_pv = 8"
   ]
  },
  {
   "cell_type": "code",
   "execution_count": 15,
   "id": "f1e87beb",
   "metadata": {},
   "outputs": [],
   "source": [
    "msa_rep = torch.rand(B, S, R, C_m).cuda()\n",
    "prw_rep = torch.rand(B, R, R, C_z).cuda()\n",
    "bbr = torch.rand(B, R, 3, 3).cuda()\n",
    "bbt = torch.rand(B, R, 3).cuda()"
   ]
  },
  {
   "cell_type": "markdown",
   "id": "f4cf25aa",
   "metadata": {},
   "source": [
    "Test MHSA (only works without batch)"
   ]
  },
  {
   "cell_type": "code",
   "execution_count": 16,
   "id": "1f871a9d",
   "metadata": {},
   "outputs": [
    {
     "name": "stdout",
     "output_type": "stream",
     "text": [
      "expected: torch.Size([16, 64, 128])\n",
      "actual:   torch.Size([16, 64, 128])\n"
     ]
    }
   ],
   "source": [
    "mhsa = MHSA(c_m=C_m, c_z=C_z, heads=8, dim_head=C, bias=True).cuda()\n",
    "print(f'expected: {msa_rep[0].shape}')\n",
    "print(f'actual:   {mhsa(msa_rep[0], prw_rep[0]).shape}')"
   ]
  },
  {
   "cell_type": "markdown",
   "id": "aae0d18c",
   "metadata": {},
   "source": [
    "Test MSA Stack"
   ]
  },
  {
   "cell_type": "code",
   "execution_count": 17,
   "id": "e6f43075",
   "metadata": {},
   "outputs": [
    {
     "name": "stdout",
     "output_type": "stream",
     "text": [
      "expected: torch.Size([5, 16, 64, 128])\n",
      "actual:   torch.Size([5, 16, 64, 128])\n"
     ]
    }
   ],
   "source": [
    "msa_stack = MSA_Stack(c_m=C_m, c_z=C_z, heads=8, dim_head=C).cuda()\n",
    "print(f'expected: {msa_rep.shape}')\n",
    "print(f'actual:   {msa_stack(msa_rep, prw_rep).shape}')"
   ]
  },
  {
   "cell_type": "markdown",
   "id": "e28cdd9c",
   "metadata": {},
   "source": [
    "Test Outer Product Mean"
   ]
  },
  {
   "cell_type": "code",
   "execution_count": 18,
   "id": "d98ddbb6",
   "metadata": {},
   "outputs": [
    {
     "name": "stdout",
     "output_type": "stream",
     "text": [
      "expected: torch.Size([5, 64, 64, 64])\n",
      "actual:   torch.Size([5, 64, 64, 64])\n"
     ]
    }
   ],
   "source": [
    "opm = Outer_Product_Mean(c_m=C_m, c_z=C_z, c=C).cuda()\n",
    "print(f'expected: {prw_rep.shape}')\n",
    "print(f'actual:   {opm(msa_rep).shape}')"
   ]
  },
  {
   "cell_type": "markdown",
   "id": "7addaee5",
   "metadata": {},
   "source": [
    "Test Pair Stack"
   ]
  },
  {
   "cell_type": "code",
   "execution_count": 19,
   "id": "6ff46598",
   "metadata": {},
   "outputs": [
    {
     "name": "stdout",
     "output_type": "stream",
     "text": [
      "expected: torch.Size([5, 64, 64, 64])\n",
      "actual:   torch.Size([5, 64, 64, 64])\n"
     ]
    }
   ],
   "source": [
    "pair_stack = Pair_Stack(c_z=C_z, heads=8, dim_head=C).cuda()\n",
    "print(f'expected: {prw_rep.shape}')\n",
    "print(f'actual:   {pair_stack(prw_rep).shape}')"
   ]
  },
  {
   "cell_type": "markdown",
   "id": "fd9f4b4d",
   "metadata": {},
   "source": [
    "Test Triangular Multiplicative Model"
   ]
  },
  {
   "cell_type": "code",
   "execution_count": 20,
   "id": "58268f22",
   "metadata": {},
   "outputs": [
    {
     "name": "stdout",
     "output_type": "stream",
     "text": [
      "expected: torch.Size([5, 64, 64, 64])\n",
      "actual:   torch.Size([5, 64, 64, 64])\n"
     ]
    }
   ],
   "source": [
    "tmm = Triangular_Multiplicative_Model('incoming', c_z=C_z, c=C).cuda()\n",
    "print(f'expected: {prw_rep.shape}')\n",
    "print(f'actual:   {tmm(prw_rep).shape}')"
   ]
  },
  {
   "cell_type": "code",
   "execution_count": 21,
   "id": "807c0fc7",
   "metadata": {},
   "outputs": [
    {
     "name": "stdout",
     "output_type": "stream",
     "text": [
      "expected: torch.Size([5, 64, 64, 64])\n",
      "actual:   torch.Size([5, 64, 64, 64])\n"
     ]
    }
   ],
   "source": [
    "tmm = Triangular_Multiplicative_Model(None, c_z=C_z, c=C).cuda()\n",
    "print(f'expected: {prw_rep.shape}')\n",
    "print(f'actual:   {tmm(prw_rep).shape}')"
   ]
  },
  {
   "cell_type": "markdown",
   "id": "0b0e5055",
   "metadata": {},
   "source": [
    "Test IPA Module"
   ]
  },
  {
   "cell_type": "code",
   "execution_count": 23,
   "id": "f4ad510b",
   "metadata": {},
   "outputs": [
    {
     "name": "stdout",
     "output_type": "stream",
     "text": [
      "expected: torch.Size([5, 64, 128])\n",
      "actual:   torch.Size([5, 64, 128])\n"
     ]
    }
   ],
   "source": [
    "ipa = IPA_Module(c_m=C_m, c_z=C_z, heads=12, dim_head=None, n_qp=4, n_pv=8).cuda()\n",
    "print(f'expected: {msa_rep[:, 0].shape}')\n",
    "print(f'actual:   {ipa(prw_rep, msa_rep[:, 0], bbr, bbt).shape}')"
   ]
  }
 ],
 "metadata": {
  "kernelspec": {
   "display_name": "Python 3 (ipykernel)",
   "language": "python",
   "name": "python3"
  },
  "language_info": {
   "codemirror_mode": {
    "name": "ipython",
    "version": 3
   },
   "file_extension": ".py",
   "mimetype": "text/x-python",
   "name": "python",
   "nbconvert_exporter": "python",
   "pygments_lexer": "ipython3",
   "version": "3.7.13"
  }
 },
 "nbformat": 4,
 "nbformat_minor": 5
}
